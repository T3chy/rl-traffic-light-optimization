{
 "cells": [
  {
   "cell_type": "code",
   "execution_count": 11,
   "metadata": {},
   "outputs": [],
   "source": [
    "from src.otm.otm_env import *\n",
    "from src.agents.tab_q_learning import *\n",
    "from matplotlib import pyplot as plt\n",
    "import os\n",
    "import inspect"
   ]
  },
  {
   "cell_type": "code",
   "execution_count": 3,
   "metadata": {},
   "outputs": [],
   "source": [
    "env_init_info = {\n",
    "    \"time_step\": 120,\n",
    "    \"plot_precision\": 4,\n",
    "    \"num_states\": 2,\n",
    "    \"num_actions\": 2,\n",
    "    \"buffer\": True\n",
    "}\n",
    "\n",
    "this_folder = os.path.dirname(os.path.abspath(inspect.getfile(inspect.currentframe())))\n",
    "configfile = os.path.join(this_folder,'cfg', 'network_1.xml')\n",
    "\n",
    "env = otmEnvDiscrete(env_init_info, configfile)\n",
    "\n",
    "agent_init_info = {\n",
    "            \"num_states\": 2**6,\n",
    "            \"num_actions\": 8,\n",
    "            \"epsilon\": 0.3,\n",
    "            \"step_size\": 0.1,\n",
    "            \"discount\": 0.9,\n",
    "            \"seed\": 0\n",
    "            }\n",
    "\n",
    "agent = QLearningAgent()\n",
    "agent.agent_init(agent_init_info)"
   ]
  },
  {
   "cell_type": "code",
   "execution_count": 4,
   "metadata": {},
   "outputs": [
    {
     "name": "stdout",
     "output_type": "stream",
     "text": [
      "Time-step: 5/50\n",
      "Acc. reward: -27\n",
      "Time-step: 10/50\n",
      "Acc. reward: -52\n",
      "Time-step: 15/50\n",
      "Acc. reward: -74\n",
      "Time-step: 20/50\n",
      "Acc. reward: -78\n",
      "Time-step: 25/50\n",
      "Acc. reward: -78\n",
      "Time-step: 30/50\n",
      "Acc. reward: -78\n",
      "Time-step: 35/50\n",
      "Acc. reward: -78\n",
      "Time-step: 40/50\n",
      "Acc. reward: -78\n",
      "Time-step: 45/50\n",
      "Acc. reward: -78\n",
      "Time-step: 50/50\n",
      "Acc. reward: -78\n"
     ]
    }
   ],
   "source": [
    "acc_neg_reward = [] # Contains negative sum of rewards during episode\n",
    "num_steps = 50 # The number of steps to run the simulation\n",
    "reward_sum = 0\n",
    "\n",
    "state, _ = env.reset()\n",
    "action = agent.agent_start(state)\n",
    "    \n",
    "for i in range(num_steps):\n",
    "    \n",
    "    state, reward = env.step(action)\n",
    "    action = agent.agent_step(reward, state)\n",
    "    \n",
    "    reward_sum += reward\n",
    "    acc_neg_reward.append(-reward_sum)\n",
    "    \n",
    "    if (i+1)%5==0:\n",
    "        print(\"Time-step: \" + str(i+1) + \"/\" + str(num_steps))\n",
    "        print(\"Acc. reward: \" + str(reward_sum))"
   ]
  },
  {
   "cell_type": "code",
   "execution_count": 5,
   "metadata": {},
   "outputs": [
    {
     "data": {
      "text/plain": [
       "Text(0.5, 1.0, 'Accumulated negative reward')"
      ]
     },
     "execution_count": 5,
     "metadata": {},
     "output_type": "execute_result"
    },
    {
     "data": {
      "image/png": "[encoded data removed]",
      "text/plain": [
       "<Figure size 432x288 with 1 Axes>"
      ]
     },
     "metadata": {
      "needs_background": "light"
     },
     "output_type": "display_data"
    }
   ],
   "source": [
    "plt.plot(range(num_steps), acc_neg_reward)\n",
    "plt.xlabel(\"Number of time steps\")\n",
    "plt.title(\"Accumulated negative reward\")"
   ]
  },
  {
   "cell_type": "code",
   "execution_count": 6,
   "metadata": {},
   "outputs": [],
   "source": [
    "def argmax(q_values):\n",
    "    \"\"\"argmax with random tie-breaking\n",
    "    Args:\n",
    "        q_values (Numpy array): the array of action-values\n",
    "    Returns:\n",
    "        action (int): an action with the highest value\n",
    "    \"\"\"\n",
    "    top = float(\"-inf\")\n",
    "    ties = []\n",
    "\n",
    "    for i in range(len(q_values)):\n",
    "        if q_values[i] > top:\n",
    "            top = q_values[i]\n",
    "            ties = []\n",
    "\n",
    "        if q_values[i] == top:\n",
    "            ties.append(i)\n",
    "\n",
    "    return np.random.RandomState(0).choice(ties)"
   ]
  },
  {
   "cell_type": "code",
   "execution_count": 30,
   "metadata": {},
   "outputs": [],
   "source": [
    "del env\n",
    "\n",
    "env_init_info = {\n",
    "    \"time_step\": 120,\n",
    "    \"plot_precision\": 1,\n",
    "    \"num_states\": 2,\n",
    "    \"num_actions\": 2,\n",
    "    \"buffer\": True\n",
    "}\n",
    "\n",
    "env2 = otmEnvDiscrete(env_init_info, configfile)"
   ]
  },
  {
   "cell_type": "code",
   "execution_count": 25,
   "metadata": {},
   "outputs": [
    {
     "data": {
      "image/png": "[encoded data removed]",
      "text/plain": [
       "<Figure size 432x288 with 1 Axes>"
      ]
     },
     "metadata": {
      "needs_background": "light"
     },
     "output_type": "display_data"
    }
   ],
   "source": [
    "state, _ = env2.reset()\n",
    "env2.add_queue_buffer()\n",
    "    \n",
    "for i in range(num_steps):\n",
    "    \n",
    "    action = argmax(agent.q[state])\n",
    "    env2.add_signal_buffer()\n",
    "    state, reward = env2.step(action)\n",
    "    env2.add_queue_buffer()"
   ]
  },
  {
   "cell_type": "code",
   "execution_count": 31,
   "metadata": {},
   "outputs": [
    {
     "data": {
      "text/plain": [
       "0"
      ]
     },
     "execution_count": 31,
     "metadata": {},
     "output_type": "execute_result"
    }
   ],
   "source": [
    "env2.plot_queues(2, \"waiting\")"
   ]
  }
 ],
 "metadata": {
  "kernelspec": {
   "display_name": "Python 3",
   "language": "python",
   "name": "python3"
  },
  "language_info": {
   "codemirror_mode": {
    "name": "ipython",
    "version": 3
   },
   "file_extension": ".py",
   "mimetype": "text/x-python",
   "name": "python",
   "nbconvert_exporter": "python",
   "pygments_lexer": "ipython3",
   "version": "3.7.4"
  }
 },
 "nbformat": 4,
 "nbformat_minor": 2
}
